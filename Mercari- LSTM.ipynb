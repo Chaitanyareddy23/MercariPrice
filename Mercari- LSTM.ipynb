{
 "cells": [
  {
   "cell_type": "code",
   "execution_count": 1,
   "metadata": {
    "_uuid": "1448a865e0484ea9ad5a9c5132efb82a45f1a056"
   },
   "outputs": [
    {
     "name": "stderr",
     "output_type": "stream",
     "text": [
      "Using TensorFlow backend.\n"
     ]
    }
   ],
   "source": [
    "import nltk\n",
    "import string\n",
    "import re\n",
    "import numpy as np\n",
    "import pandas as pd\n",
    "from sklearn.model_selection import train_test_split\n",
    "\n",
    "import tensorflow as tf\n",
    "from keras.models import Sequential\n",
    "from keras.preprocessing.text import Tokenizer\n",
    "from keras.preprocessing.sequence import pad_sequences\n",
    "from keras.layers import Input, Dropout, Dense, BatchNormalization, Activation, concatenate, LSTM, GRU, Embedding, Flatten\n",
    "from keras.models import Model\n",
    "from keras.optimizers import Adam\n",
    "from keras import backend as K"
   ]
  },
  {
   "cell_type": "markdown",
   "metadata": {},
   "source": [
    "### Loading the data"
   ]
  },
  {
   "cell_type": "code",
   "execution_count": 2,
   "metadata": {
    "_cell_guid": "79c7e3d0-c299-4dcb-8224-4455121ee9b0",
    "_uuid": "d629ff2d2480ee46fbb7e2d37f6b5fab8052498a"
   },
   "outputs": [],
   "source": [
    "train = pd.read_table('train.tsv')\n",
    "test = pd.read_table('test_stg2.tsv')"
   ]
  },
  {
   "cell_type": "code",
   "execution_count": 3,
   "metadata": {
    "_uuid": "32647b4d5baf36c2ec3c1a50b0e140d53e25afa0"
   },
   "outputs": [
    {
     "name": "stdout",
     "output_type": "stream",
     "text": [
      "Number of data points in train:  1482535\n",
      "Number of features/variables: 8\n",
      "Number of data points in test:  3460725\n"
     ]
    },
    {
     "data": {
      "text/html": [
       "<div>\n",
       "<style scoped>\n",
       "    .dataframe tbody tr th:only-of-type {\n",
       "        vertical-align: middle;\n",
       "    }\n",
       "\n",
       "    .dataframe tbody tr th {\n",
       "        vertical-align: top;\n",
       "    }\n",
       "\n",
       "    .dataframe thead th {\n",
       "        text-align: right;\n",
       "    }\n",
       "</style>\n",
       "<table border=\"1\" class=\"dataframe\">\n",
       "  <thead>\n",
       "    <tr style=\"text-align: right;\">\n",
       "      <th></th>\n",
       "      <th>train_id</th>\n",
       "      <th>name</th>\n",
       "      <th>item_condition_id</th>\n",
       "      <th>category_name</th>\n",
       "      <th>brand_name</th>\n",
       "      <th>price</th>\n",
       "      <th>shipping</th>\n",
       "      <th>item_description</th>\n",
       "    </tr>\n",
       "  </thead>\n",
       "  <tbody>\n",
       "    <tr>\n",
       "      <th>0</th>\n",
       "      <td>0</td>\n",
       "      <td>MLB Cincinnati Reds T Shirt Size XL</td>\n",
       "      <td>3</td>\n",
       "      <td>Men/Tops/T-shirts</td>\n",
       "      <td>NaN</td>\n",
       "      <td>10.0</td>\n",
       "      <td>1</td>\n",
       "      <td>No description yet</td>\n",
       "    </tr>\n",
       "    <tr>\n",
       "      <th>1</th>\n",
       "      <td>1</td>\n",
       "      <td>Razer BlackWidow Chroma Keyboard</td>\n",
       "      <td>3</td>\n",
       "      <td>Electronics/Computers &amp; Tablets/Components &amp; P...</td>\n",
       "      <td>Razer</td>\n",
       "      <td>52.0</td>\n",
       "      <td>0</td>\n",
       "      <td>This keyboard is in great condition and works ...</td>\n",
       "    </tr>\n",
       "    <tr>\n",
       "      <th>2</th>\n",
       "      <td>2</td>\n",
       "      <td>AVA-VIV Blouse</td>\n",
       "      <td>1</td>\n",
       "      <td>Women/Tops &amp; Blouses/Blouse</td>\n",
       "      <td>Target</td>\n",
       "      <td>10.0</td>\n",
       "      <td>1</td>\n",
       "      <td>Adorable top with a hint of lace and a key hol...</td>\n",
       "    </tr>\n",
       "    <tr>\n",
       "      <th>3</th>\n",
       "      <td>3</td>\n",
       "      <td>Leather Horse Statues</td>\n",
       "      <td>1</td>\n",
       "      <td>Home/Home Décor/Home Décor Accents</td>\n",
       "      <td>NaN</td>\n",
       "      <td>35.0</td>\n",
       "      <td>1</td>\n",
       "      <td>New with tags. Leather horses. Retail for [rm]...</td>\n",
       "    </tr>\n",
       "    <tr>\n",
       "      <th>4</th>\n",
       "      <td>4</td>\n",
       "      <td>24K GOLD plated rose</td>\n",
       "      <td>1</td>\n",
       "      <td>Women/Jewelry/Necklaces</td>\n",
       "      <td>NaN</td>\n",
       "      <td>44.0</td>\n",
       "      <td>0</td>\n",
       "      <td>Complete with certificate of authenticity</td>\n",
       "    </tr>\n",
       "  </tbody>\n",
       "</table>\n",
       "</div>"
      ],
      "text/plain": [
       "   train_id                                 name  item_condition_id  \\\n",
       "0         0  MLB Cincinnati Reds T Shirt Size XL                  3   \n",
       "1         1     Razer BlackWidow Chroma Keyboard                  3   \n",
       "2         2                       AVA-VIV Blouse                  1   \n",
       "3         3                Leather Horse Statues                  1   \n",
       "4         4                 24K GOLD plated rose                  1   \n",
       "\n",
       "                                       category_name brand_name  price  \\\n",
       "0                                  Men/Tops/T-shirts        NaN   10.0   \n",
       "1  Electronics/Computers & Tablets/Components & P...      Razer   52.0   \n",
       "2                        Women/Tops & Blouses/Blouse     Target   10.0   \n",
       "3                 Home/Home Décor/Home Décor Accents        NaN   35.0   \n",
       "4                            Women/Jewelry/Necklaces        NaN   44.0   \n",
       "\n",
       "   shipping                                   item_description  \n",
       "0         1                                 No description yet  \n",
       "1         0  This keyboard is in great condition and works ...  \n",
       "2         1  Adorable top with a hint of lace and a key hol...  \n",
       "3         1  New with tags. Leather horses. Retail for [rm]...  \n",
       "4         0          Complete with certificate of authenticity  "
      ]
     },
     "execution_count": 3,
     "metadata": {},
     "output_type": "execute_result"
    }
   ],
   "source": [
    "print ('Number of data points in train: ', train.shape[0])\n",
    "print ('Number of features/variables:', train.shape[1])\n",
    "\n",
    "print ('Number of data points in test: ', test.shape[0])\n",
    "\n",
    "train.head()"
   ]
  },
  {
   "cell_type": "code",
   "execution_count": 4,
   "metadata": {
    "_uuid": "39ccc3491ddb4135c741d639832829bb93a75cab"
   },
   "outputs": [
    {
     "name": "stdout",
     "output_type": "stream",
     "text": [
      "Number of data points in train data after eliminating price<3.00 : 1462958\n"
     ]
    }
   ],
   "source": [
    "#Removing the products whose price < 3\n",
    "train =train[train['price']> 3]\n",
    "\n",
    "print('Number of data points in train data after eliminating price<3.00 :', train.shape[0])"
   ]
  },
  {
   "cell_type": "markdown",
   "metadata": {},
   "source": [
    "### Handling the missing values"
   ]
  },
  {
   "cell_type": "code",
   "execution_count": 5,
   "metadata": {
    "_uuid": "f2c04efb5896d81f501412a731828e4d8cfdb84d"
   },
   "outputs": [],
   "source": [
    "def handle_missing_inplace(dataset):\n",
    "    dataset['category_name'].fillna(value='missing', inplace=True)\n",
    "    dataset['brand_name'].fillna(value='missing', inplace=True)\n",
    "    dataset['item_description'].fillna(value='missing', inplace=True)"
   ]
  },
  {
   "cell_type": "code",
   "execution_count": 6,
   "metadata": {
    "_uuid": "77c7d1799f2397364528172166fa6bf80bed509b"
   },
   "outputs": [],
   "source": [
    "handle_missing_inplace(train)"
   ]
  },
  {
   "cell_type": "code",
   "execution_count": 7,
   "metadata": {
    "_uuid": "269893baf823b158ca040b2fe7c9cb7a4b024f0d"
   },
   "outputs": [],
   "source": [
    "handle_missing_inplace(test)"
   ]
  },
  {
   "cell_type": "markdown",
   "metadata": {},
   "source": [
    "### Transforming Text Data"
   ]
  },
  {
   "cell_type": "code",
   "execution_count": 8,
   "metadata": {
    "_uuid": "b28f738e84879fd885b4a024b73adcee4bc636df"
   },
   "outputs": [
    {
     "name": "stdout",
     "output_type": "stream",
     "text": [
      "Transforming text data to sequences...\n",
      "   Fitting tokenizer...\n",
      "   Transforming text to sequences...\n"
     ]
    }
   ],
   "source": [
    "print(\"Transforming text data to sequences...\")\n",
    "train_text = np.hstack([train.item_description.str.lower(), train.name.str.lower(), train.category_name.str.lower()])\n",
    "test_text = np.hstack([test.item_description.str.lower(), test.name.str.lower(), test.category_name.str.lower()])\n",
    "print(\"   Fitting tokenizer...\")\n",
    "tok_raw = Tokenizer()\n",
    "tok_raw.fit_on_texts(train_text)\n",
    "tok_raw.fit_on_texts(test_text)\n",
    "print(\"   Transforming text to sequences...\")\n",
    "train['seq_item_description'] = tok_raw.texts_to_sequences(train.item_description.str.lower())\n",
    "train['seq_name'] = tok_raw.texts_to_sequences(train.name.str.lower())\n",
    "train['seq_category'] = tok_raw.texts_to_sequences(train.category_name.str.lower())\n",
    "test['seq_item_description'] = tok_raw.texts_to_sequences(test.item_description.str.lower())\n",
    "test['seq_name'] = tok_raw.texts_to_sequences(test.name.str.lower())\n",
    "test['seq_category'] = tok_raw.texts_to_sequences(test.category_name.str.lower())"
   ]
  },
  {
   "cell_type": "code",
   "execution_count": 9,
   "metadata": {
    "_uuid": "b3bb83def25101928f1e9ca1e998a72889badf46"
   },
   "outputs": [
    {
     "name": "stdout",
     "output_type": "stream",
     "text": [
      "0    [2463, 9693, 7315, 70, 99, 7, 199]\n",
      "1           [11268, 28928, 16890, 2715]\n",
      "2                    [7745, 10561, 277]\n",
      "3                      [227, 2717, 621]\n",
      "4                [5002, 127, 1174, 340]\n",
      "Name: seq_name, dtype: object\n"
     ]
    }
   ],
   "source": [
    "print(train['seq_name'][:5])"
   ]
  },
  {
   "cell_type": "code",
   "execution_count": 10,
   "metadata": {
    "_uuid": "955298d3481c0bc97bb7d18c9edd999843f8e421"
   },
   "outputs": [
    {
     "data": {
      "text/html": [
       "<div>\n",
       "<style scoped>\n",
       "    .dataframe tbody tr th:only-of-type {\n",
       "        vertical-align: middle;\n",
       "    }\n",
       "\n",
       "    .dataframe tbody tr th {\n",
       "        vertical-align: top;\n",
       "    }\n",
       "\n",
       "    .dataframe thead th {\n",
       "        text-align: right;\n",
       "    }\n",
       "</style>\n",
       "<table border=\"1\" class=\"dataframe\">\n",
       "  <thead>\n",
       "    <tr style=\"text-align: right;\">\n",
       "      <th></th>\n",
       "      <th>train_id</th>\n",
       "      <th>name</th>\n",
       "      <th>item_condition_id</th>\n",
       "      <th>category_name</th>\n",
       "      <th>brand_name</th>\n",
       "      <th>price</th>\n",
       "      <th>shipping</th>\n",
       "      <th>item_description</th>\n",
       "      <th>seq_item_description</th>\n",
       "      <th>seq_name</th>\n",
       "      <th>seq_category</th>\n",
       "    </tr>\n",
       "  </thead>\n",
       "  <tbody>\n",
       "    <tr>\n",
       "      <th>0</th>\n",
       "      <td>0</td>\n",
       "      <td>MLB Cincinnati Reds T Shirt Size XL</td>\n",
       "      <td>3</td>\n",
       "      <td>Men/Tops/T-shirts</td>\n",
       "      <td>missing</td>\n",
       "      <td>10.0</td>\n",
       "      <td>1</td>\n",
       "      <td>No description yet</td>\n",
       "      <td>[13, 88, 102]</td>\n",
       "      <td>[2463, 9693, 7315, 70, 99, 7, 199]</td>\n",
       "      <td>[77, 41, 70, 72]</td>\n",
       "    </tr>\n",
       "    <tr>\n",
       "      <th>1</th>\n",
       "      <td>1</td>\n",
       "      <td>Razer BlackWidow Chroma Keyboard</td>\n",
       "      <td>3</td>\n",
       "      <td>Electronics/Computers &amp; Tablets/Components &amp; P...</td>\n",
       "      <td>Razer</td>\n",
       "      <td>52.0</td>\n",
       "      <td>0</td>\n",
       "      <td>This keyboard is in great condition and works ...</td>\n",
       "      <td>[33, 2715, 11, 8, 50, 18, 1, 256, 65, 21, 1182...</td>\n",
       "      <td>[11268, 28928, 16890, 2715]</td>\n",
       "      <td>[62, 922, 828, 3318, 1378]</td>\n",
       "    </tr>\n",
       "    <tr>\n",
       "      <th>2</th>\n",
       "      <td>2</td>\n",
       "      <td>AVA-VIV Blouse</td>\n",
       "      <td>1</td>\n",
       "      <td>Women/Tops &amp; Blouses/Blouse</td>\n",
       "      <td>Target</td>\n",
       "      <td>10.0</td>\n",
       "      <td>1</td>\n",
       "      <td>Adorable top with a hint of lace and a key hol...</td>\n",
       "      <td>[692, 74, 10, 5, 5381, 12, 244, 1, 5, 1036, 13...</td>\n",
       "      <td>[7745, 10561, 277]</td>\n",
       "      <td>[2, 41, 75, 277]</td>\n",
       "    </tr>\n",
       "    <tr>\n",
       "      <th>3</th>\n",
       "      <td>3</td>\n",
       "      <td>Leather Horse Statues</td>\n",
       "      <td>1</td>\n",
       "      <td>Home/Home Décor/Home Décor Accents</td>\n",
       "      <td>missing</td>\n",
       "      <td>35.0</td>\n",
       "      <td>1</td>\n",
       "      <td>New with tags. Leather horses. Retail for [rm]...</td>\n",
       "      <td>[6, 10, 80, 227, 6615, 283, 4, 22, 211, 1205, ...</td>\n",
       "      <td>[227, 2717, 621]</td>\n",
       "      <td>[37, 37, 197, 37, 197, 501]</td>\n",
       "    </tr>\n",
       "    <tr>\n",
       "      <th>4</th>\n",
       "      <td>4</td>\n",
       "      <td>24K GOLD plated rose</td>\n",
       "      <td>1</td>\n",
       "      <td>Women/Jewelry/Necklaces</td>\n",
       "      <td>missing</td>\n",
       "      <td>44.0</td>\n",
       "      <td>0</td>\n",
       "      <td>Complete with certificate of authenticity</td>\n",
       "      <td>[892, 10, 7132, 12, 2111]</td>\n",
       "      <td>[5002, 127, 1174, 340]</td>\n",
       "      <td>[2, 109, 353]</td>\n",
       "    </tr>\n",
       "  </tbody>\n",
       "</table>\n",
       "</div>"
      ],
      "text/plain": [
       "   train_id                                 name  item_condition_id  \\\n",
       "0         0  MLB Cincinnati Reds T Shirt Size XL                  3   \n",
       "1         1     Razer BlackWidow Chroma Keyboard                  3   \n",
       "2         2                       AVA-VIV Blouse                  1   \n",
       "3         3                Leather Horse Statues                  1   \n",
       "4         4                 24K GOLD plated rose                  1   \n",
       "\n",
       "                                       category_name brand_name  price  \\\n",
       "0                                  Men/Tops/T-shirts    missing   10.0   \n",
       "1  Electronics/Computers & Tablets/Components & P...      Razer   52.0   \n",
       "2                        Women/Tops & Blouses/Blouse     Target   10.0   \n",
       "3                 Home/Home Décor/Home Décor Accents    missing   35.0   \n",
       "4                            Women/Jewelry/Necklaces    missing   44.0   \n",
       "\n",
       "   shipping                                   item_description  \\\n",
       "0         1                                 No description yet   \n",
       "1         0  This keyboard is in great condition and works ...   \n",
       "2         1  Adorable top with a hint of lace and a key hol...   \n",
       "3         1  New with tags. Leather horses. Retail for [rm]...   \n",
       "4         0          Complete with certificate of authenticity   \n",
       "\n",
       "                                seq_item_description  \\\n",
       "0                                      [13, 88, 102]   \n",
       "1  [33, 2715, 11, 8, 50, 18, 1, 256, 65, 21, 1182...   \n",
       "2  [692, 74, 10, 5, 5381, 12, 244, 1, 5, 1036, 13...   \n",
       "3  [6, 10, 80, 227, 6615, 283, 4, 22, 211, 1205, ...   \n",
       "4                          [892, 10, 7132, 12, 2111]   \n",
       "\n",
       "                             seq_name                 seq_category  \n",
       "0  [2463, 9693, 7315, 70, 99, 7, 199]             [77, 41, 70, 72]  \n",
       "1         [11268, 28928, 16890, 2715]   [62, 922, 828, 3318, 1378]  \n",
       "2                  [7745, 10561, 277]             [2, 41, 75, 277]  \n",
       "3                    [227, 2717, 621]  [37, 37, 197, 37, 197, 501]  \n",
       "4              [5002, 127, 1174, 340]                [2, 109, 353]  "
      ]
     },
     "execution_count": 10,
     "metadata": {},
     "output_type": "execute_result"
    }
   ],
   "source": [
    "train.head()"
   ]
  },
  {
   "cell_type": "markdown",
   "metadata": {},
   "source": [
    "### Encoding the Categorical Features"
   ]
  },
  {
   "cell_type": "code",
   "execution_count": 11,
   "metadata": {
    "_uuid": "9a521476a09be8300e7e6f07cbd5332c75c3cbe1"
   },
   "outputs": [
    {
     "name": "stdout",
     "output_type": "stream",
     "text": [
      "Processing categorical data...\n"
     ]
    }
   ],
   "source": [
    "from sklearn.preprocessing import LabelEncoder\n",
    "\n",
    "print(\"Processing categorical data...\")\n",
    "le = LabelEncoder()\n",
    "\n",
    "le.fit(train.category_name)\n",
    "train.category_name = le.transform(train.category_name)\n",
    "\n",
    "le.fit(train.brand_name)\n",
    "train.brand_name = le.transform(train.brand_name)"
   ]
  },
  {
   "cell_type": "code",
   "execution_count": 12,
   "metadata": {
    "_uuid": "d7e90edd1e58644dea2773c341606a5fdc9bcabe"
   },
   "outputs": [
    {
     "name": "stdout",
     "output_type": "stream",
     "text": [
      "Processing categorical data for test data...\n"
     ]
    }
   ],
   "source": [
    "print(\"Processing categorical data for test data...\")\n",
    "le = LabelEncoder()\n",
    "\n",
    "le.fit(test.category_name)\n",
    "test.category_name = le.transform(test.category_name)\n",
    "\n",
    "le.fit(test.brand_name)\n",
    "test.brand_name = le.transform(test.brand_name)"
   ]
  },
  {
   "cell_type": "markdown",
   "metadata": {},
   "source": [
    "### Feature Engineering"
   ]
  },
  {
   "cell_type": "code",
   "execution_count": 13,
   "metadata": {
    "_uuid": "4d838e42575b667ef60148efd0006faac892d99c"
   },
   "outputs": [
    {
     "data": {
      "text/html": [
       "<div>\n",
       "<style scoped>\n",
       "    .dataframe tbody tr th:only-of-type {\n",
       "        vertical-align: middle;\n",
       "    }\n",
       "\n",
       "    .dataframe tbody tr th {\n",
       "        vertical-align: top;\n",
       "    }\n",
       "\n",
       "    .dataframe thead th {\n",
       "        text-align: right;\n",
       "    }\n",
       "</style>\n",
       "<table border=\"1\" class=\"dataframe\">\n",
       "  <thead>\n",
       "    <tr style=\"text-align: right;\">\n",
       "      <th></th>\n",
       "      <th>train_id</th>\n",
       "      <th>name</th>\n",
       "      <th>item_condition_id</th>\n",
       "      <th>category_name</th>\n",
       "      <th>brand_name</th>\n",
       "      <th>price</th>\n",
       "      <th>shipping</th>\n",
       "      <th>item_description</th>\n",
       "      <th>seq_item_description</th>\n",
       "      <th>seq_name</th>\n",
       "      <th>seq_category</th>\n",
       "      <th>desc_len</th>\n",
       "      <th>name_len</th>\n",
       "    </tr>\n",
       "  </thead>\n",
       "  <tbody>\n",
       "    <tr>\n",
       "      <th>0</th>\n",
       "      <td>0</td>\n",
       "      <td>MLB Cincinnati Reds T Shirt Size XL</td>\n",
       "      <td>3</td>\n",
       "      <td>808</td>\n",
       "      <td>4767</td>\n",
       "      <td>10.0</td>\n",
       "      <td>1</td>\n",
       "      <td>No description yet</td>\n",
       "      <td>[13, 88, 102]</td>\n",
       "      <td>[2463, 9693, 7315, 70, 99, 7, 199]</td>\n",
       "      <td>[77, 41, 70, 72]</td>\n",
       "      <td>0</td>\n",
       "      <td>7</td>\n",
       "    </tr>\n",
       "    <tr>\n",
       "      <th>1</th>\n",
       "      <td>1</td>\n",
       "      <td>Razer BlackWidow Chroma Keyboard</td>\n",
       "      <td>3</td>\n",
       "      <td>86</td>\n",
       "      <td>3541</td>\n",
       "      <td>52.0</td>\n",
       "      <td>0</td>\n",
       "      <td>This keyboard is in great condition and works ...</td>\n",
       "      <td>[33, 2715, 11, 8, 50, 18, 1, 256, 65, 21, 1182...</td>\n",
       "      <td>[11268, 28928, 16890, 2715]</td>\n",
       "      <td>[62, 922, 828, 3318, 1378]</td>\n",
       "      <td>36</td>\n",
       "      <td>4</td>\n",
       "    </tr>\n",
       "    <tr>\n",
       "      <th>2</th>\n",
       "      <td>2</td>\n",
       "      <td>AVA-VIV Blouse</td>\n",
       "      <td>1</td>\n",
       "      <td>1254</td>\n",
       "      <td>4162</td>\n",
       "      <td>10.0</td>\n",
       "      <td>1</td>\n",
       "      <td>Adorable top with a hint of lace and a key hol...</td>\n",
       "      <td>[692, 74, 10, 5, 5381, 12, 244, 1, 5, 1036, 13...</td>\n",
       "      <td>[7745, 10561, 277]</td>\n",
       "      <td>[2, 41, 75, 277]</td>\n",
       "      <td>29</td>\n",
       "      <td>2</td>\n",
       "    </tr>\n",
       "    <tr>\n",
       "      <th>3</th>\n",
       "      <td>3</td>\n",
       "      <td>Leather Horse Statues</td>\n",
       "      <td>1</td>\n",
       "      <td>485</td>\n",
       "      <td>4767</td>\n",
       "      <td>35.0</td>\n",
       "      <td>1</td>\n",
       "      <td>New with tags. Leather horses. Retail for [rm]...</td>\n",
       "      <td>[6, 10, 80, 227, 6615, 283, 4, 22, 211, 1205, ...</td>\n",
       "      <td>[227, 2717, 621]</td>\n",
       "      <td>[37, 37, 197, 37, 197, 501]</td>\n",
       "      <td>32</td>\n",
       "      <td>3</td>\n",
       "    </tr>\n",
       "    <tr>\n",
       "      <th>4</th>\n",
       "      <td>4</td>\n",
       "      <td>24K GOLD plated rose</td>\n",
       "      <td>1</td>\n",
       "      <td>1181</td>\n",
       "      <td>4767</td>\n",
       "      <td>44.0</td>\n",
       "      <td>0</td>\n",
       "      <td>Complete with certificate of authenticity</td>\n",
       "      <td>[892, 10, 7132, 12, 2111]</td>\n",
       "      <td>[5002, 127, 1174, 340]</td>\n",
       "      <td>[2, 109, 353]</td>\n",
       "      <td>5</td>\n",
       "      <td>4</td>\n",
       "    </tr>\n",
       "  </tbody>\n",
       "</table>\n",
       "</div>"
      ],
      "text/plain": [
       "   train_id                                 name  item_condition_id  \\\n",
       "0         0  MLB Cincinnati Reds T Shirt Size XL                  3   \n",
       "1         1     Razer BlackWidow Chroma Keyboard                  3   \n",
       "2         2                       AVA-VIV Blouse                  1   \n",
       "3         3                Leather Horse Statues                  1   \n",
       "4         4                 24K GOLD plated rose                  1   \n",
       "\n",
       "   category_name  brand_name  price  shipping  \\\n",
       "0            808        4767   10.0         1   \n",
       "1             86        3541   52.0         0   \n",
       "2           1254        4162   10.0         1   \n",
       "3            485        4767   35.0         1   \n",
       "4           1181        4767   44.0         0   \n",
       "\n",
       "                                    item_description  \\\n",
       "0                                 No description yet   \n",
       "1  This keyboard is in great condition and works ...   \n",
       "2  Adorable top with a hint of lace and a key hol...   \n",
       "3  New with tags. Leather horses. Retail for [rm]...   \n",
       "4          Complete with certificate of authenticity   \n",
       "\n",
       "                                seq_item_description  \\\n",
       "0                                      [13, 88, 102]   \n",
       "1  [33, 2715, 11, 8, 50, 18, 1, 256, 65, 21, 1182...   \n",
       "2  [692, 74, 10, 5, 5381, 12, 244, 1, 5, 1036, 13...   \n",
       "3  [6, 10, 80, 227, 6615, 283, 4, 22, 211, 1205, ...   \n",
       "4                          [892, 10, 7132, 12, 2111]   \n",
       "\n",
       "                             seq_name                 seq_category  desc_len  \\\n",
       "0  [2463, 9693, 7315, 70, 99, 7, 199]             [77, 41, 70, 72]         0   \n",
       "1         [11268, 28928, 16890, 2715]   [62, 922, 828, 3318, 1378]        36   \n",
       "2                  [7745, 10561, 277]             [2, 41, 75, 277]        29   \n",
       "3                    [227, 2717, 621]  [37, 37, 197, 37, 197, 501]        32   \n",
       "4              [5002, 127, 1174, 340]                [2, 109, 353]         5   \n",
       "\n",
       "   name_len  \n",
       "0         7  \n",
       "1         4  \n",
       "2         2  \n",
       "3         3  \n",
       "4         4  "
      ]
     },
     "execution_count": 13,
     "metadata": {},
     "output_type": "execute_result"
    }
   ],
   "source": [
    "#Function to get name and description lengths\n",
    "def wordCount(text):\n",
    "    try:\n",
    "        if text == 'No description yet':\n",
    "            return 0\n",
    "        else:\n",
    "            text = text.lower()\n",
    "            words = [w for w in text.split(\" \")]\n",
    "            return len(words)\n",
    "    except: \n",
    "        return 0\n",
    "\n",
    "\n",
    "\n",
    "train['desc_len'] = train['item_description'].apply(lambda x: wordCount(x))\n",
    "test['desc_len'] = test['item_description'].apply(lambda x: wordCount(x))\n",
    "train['name_len'] = train['name'].apply(lambda x: wordCount(x))\n",
    "test['name_len'] = test['name'].apply(lambda x: wordCount(x))\n",
    "\n",
    "train.head()"
   ]
  },
  {
   "cell_type": "markdown",
   "metadata": {},
   "source": [
    "### Preparing data for applying RNN"
   ]
  },
  {
   "cell_type": "code",
   "execution_count": 14,
   "metadata": {
    "_uuid": "f4eaa79fcaa200ed2ad5bdbb3004c6a78866f931"
   },
   "outputs": [],
   "source": [
    "MAX_NAME_SEQ = 50\n",
    "MAX_ITEM_DESC_SEQ = 200\n",
    "MAX_CATEGORY_SEQ = 10\n",
    "MAX_TEXT = np.max([\n",
    "    np.max(train.seq_name.max()),\n",
    "    np.max(train.seq_item_description.max()),   \n",
    "    np.max(train.seq_category.max())]) + 100\n",
    "MAX_CATEGORY = np.max(train.category_name.max()) + 1\n",
    "MAX_BRAND = np.max(train.brand_name.max()) + 1\n",
    "MAX_CONDITION = np.max(train.item_condition_id.max()) + 1"
   ]
  },
  {
   "cell_type": "code",
   "execution_count": 15,
   "metadata": {
    "_uuid": "eb88b5f98fb4d5cde9288a2ad5285ca4ae5b0b10"
   },
   "outputs": [],
   "source": [
    "#Function to get data for RNN model\n",
    "def Keras_data(dataset):\n",
    "    X = {\n",
    "        'name': pad_sequences(dataset.seq_name, maxlen=MAX_NAME_SEQ),\n",
    "        'item_desc': pad_sequences(dataset.seq_item_description, maxlen=MAX_ITEM_DESC_SEQ),\n",
    "        'category_seq': pad_sequences(dataset.seq_category, maxlen=MAX_CATEGORY_SEQ),\n",
    "        'brand_name': np.array(dataset.brand_name),\n",
    "        'category_name': np.array(dataset.category_name),\n",
    "        'item_condition': np.array(dataset.item_condition_id),\n",
    "        'num_vars': np.array(dataset[[\"shipping\"]]),\n",
    "        'desc_len': np.array(dataset[[\"desc_len\"]]),\n",
    "        'name_len': np.array(dataset[[\"name_len\"]])\n",
    "    }\n",
    "    return X"
   ]
  },
  {
   "cell_type": "markdown",
   "metadata": {},
   "source": [
    "### Splitting the data"
   ]
  },
  {
   "cell_type": "code",
   "execution_count": 16,
   "metadata": {
    "_uuid": "8315e35bad5a8abacd6aaf539886b45fcf11d77d"
   },
   "outputs": [],
   "source": [
    "#Splitting the data into train and cv\n",
    "\n",
    "y_true = train['price'].values\n",
    "\n",
    "x_train, x_cv, y_train, y_cv = train_test_split(train, y_true, test_size=0.2,  random_state=0)"
   ]
  },
  {
   "cell_type": "code",
   "execution_count": 17,
   "metadata": {
    "_uuid": "e49a84c0e63edf8087283c80172cbe90a0642932"
   },
   "outputs": [],
   "source": [
    "#Padding data for RNN\n",
    "X_train = Keras_data(x_train)\n",
    "X_cv = Keras_data(x_cv)\n",
    "X_test = Keras_data(test)"
   ]
  },
  {
   "cell_type": "code",
   "execution_count": 18,
   "metadata": {
    "_uuid": "e8689b84a751eaab90219e25c9b2c2d9b0df2bb7"
   },
   "outputs": [],
   "source": [
    "#Scaling target variable to log.\n",
    "y_train = np.log1p(y_train)\n",
    "y_train = y_train.reshape(-1, 1)"
   ]
  },
  {
   "cell_type": "code",
   "execution_count": 19,
   "metadata": {
    "_uuid": "5ee027965b391b3820c69aecf938f805ba14448d"
   },
   "outputs": [],
   "source": [
    "y_cv = np.log1p(y_cv)\n",
    "y_cv = y_cv.reshape(-1, 1)"
   ]
  },
  {
   "cell_type": "code",
   "execution_count": 20,
   "metadata": {
    "_uuid": "f91ddca3b88c0efb5512186d68f05784696b89e9"
   },
   "outputs": [],
   "source": [
    "#Y_true and Y_pred will already be in log scale,hence, there is no need to log them in the function.\n",
    "\n",
    "def rmsle(Y_true, Y_pred):\n",
    "    assert Y_true.shape == Y_pred.shape\n",
    "    return np.sqrt(np.mean(np.square(Y_pred - Y_true)))"
   ]
  },
  {
   "cell_type": "markdown",
   "metadata": {},
   "source": [
    "## Deep Learning Model"
   ]
  },
  {
   "cell_type": "markdown",
   "metadata": {},
   "source": [
    "### LSTM - 3 Layers"
   ]
  },
  {
   "cell_type": "code",
   "execution_count": 21,
   "metadata": {
    "_uuid": "adc5352fa59b762a828d1c355201c538af621d2a"
   },
   "outputs": [],
   "source": [
    "np.random.seed(42)\n",
    "def LSTM_model():\n",
    "    # Inputs\n",
    "    name = Input(shape=[X_train[\"name\"].shape[1]], name=\"name\")\n",
    "    item_desc = Input(shape=[X_train[\"item_desc\"].shape[1]], name=\"item_desc\")\n",
    "    brand_name = Input(shape=[1], name=\"brand_name\")\n",
    "    category_name = Input(shape=[1], name=\"category_name\")\n",
    "    item_condition = Input(shape=[1], name=\"item_condition\")\n",
    "    num_vars = Input(shape=[1], name=\"num_vars\")\n",
    "    desc_len = Input(shape=[1], name=\"desc_len\")\n",
    "    name_len = Input(shape=[1], name=\"name_len\")\n",
    "\n",
    "    # Embeddings layers\n",
    "    emb_name = Embedding(MAX_TEXT, 50)(name)\n",
    "    emb_item_desc = Embedding(MAX_TEXT, 50)(item_desc)\n",
    "    emb_brand_name = Embedding(MAX_BRAND, 10)(brand_name)\n",
    "    emb_category_name = Embedding(MAX_TEXT, 20)(category_name)\n",
    "    emb_item_condition = Embedding(MAX_CONDITION, 5)(item_condition)\n",
    "    emb_shipping = Embedding(2, 5)(num_vars)\n",
    "\n",
    "    # RNN layers\n",
    "    rnn_layer1 = LSTM(32, dropout=0.6)(emb_item_desc)\n",
    "    rnn_layer2 = LSTM(16, dropout=0.6)(emb_name)\n",
    "    rnn_layer3 = LSTM(8, dropout=0.6) (emb_category_name)\n",
    "\n",
    "    # Main layer\n",
    "    main_l = concatenate([\n",
    "        Flatten()(emb_brand_name),\n",
    "        Flatten() (emb_shipping),\n",
    "        Flatten()(emb_item_condition),\n",
    "        num_vars,\n",
    "        rnn_layer1,\n",
    "        rnn_layer2,\n",
    "        rnn_layer3,\n",
    "        desc_len,\n",
    "        name_len])\n",
    "\n",
    "    main_l = Dropout(0.1)(Dense(512, activation='relu')(main_l))\n",
    "    main_l = Dropout(0.1)(Dense(256, activation='relu')(main_l))\n",
    "    \n",
    "    # Output layer\n",
    "    output = Dense(1, activation=\"relu\")(main_l)\n",
    "\n",
    "    # Compile model\n",
    "    model = Model([name, item_desc, brand_name, category_name, item_condition, num_vars, desc_len, name_len], output)\n",
    "    optimizer = Adam(lr=0.001, decay=0.0)\n",
    "    model.compile(loss=\"mse\", optimizer= optimizer)\n",
    "\n",
    "    return model"
   ]
  },
  {
   "cell_type": "code",
   "execution_count": 22,
   "metadata": {
    "_uuid": "4696bc191775b17a87fcc97bbc01977171db13ff"
   },
   "outputs": [
    {
     "name": "stdout",
     "output_type": "stream",
     "text": [
      "WARNING:tensorflow:From /home/chaitanyareddypatlolla/.local/lib/python3.5/site-packages/tensorflow/python/framework/op_def_library.py:263: colocate_with (from tensorflow.python.framework.ops) is deprecated and will be removed in a future version.\n",
      "Instructions for updating:\n",
      "Colocations handled automatically by placer.\n",
      "WARNING:tensorflow:From /home/chaitanyareddypatlolla/.local/lib/python3.5/site-packages/keras/backend/tensorflow_backend.py:3445: calling dropout (from tensorflow.python.ops.nn_ops) with keep_prob is deprecated and will be removed in a future version.\n",
      "Instructions for updating:\n",
      "Please use `rate` instead of `keep_prob`. Rate should be set to `rate = 1 - keep_prob`.\n",
      "__________________________________________________________________________________________________\n",
      "Layer (type)                    Output Shape         Param #     Connected to                     \n",
      "==================================================================================================\n",
      "brand_name (InputLayer)         (None, 1)            0                                            \n",
      "__________________________________________________________________________________________________\n",
      "num_vars (InputLayer)           (None, 1)            0                                            \n",
      "__________________________________________________________________________________________________\n",
      "item_condition (InputLayer)     (None, 1)            0                                            \n",
      "__________________________________________________________________________________________________\n",
      "item_desc (InputLayer)          (None, 200)          0                                            \n",
      "__________________________________________________________________________________________________\n",
      "name (InputLayer)               (None, 50)           0                                            \n",
      "__________________________________________________________________________________________________\n",
      "category_name (InputLayer)      (None, 1)            0                                            \n",
      "__________________________________________________________________________________________________\n",
      "embedding_3 (Embedding)         (None, 1, 10)        47910       brand_name[0][0]                 \n",
      "__________________________________________________________________________________________________\n",
      "embedding_6 (Embedding)         (None, 1, 5)         10          num_vars[0][0]                   \n",
      "__________________________________________________________________________________________________\n",
      "embedding_5 (Embedding)         (None, 1, 5)         30          item_condition[0][0]             \n",
      "__________________________________________________________________________________________________\n",
      "embedding_2 (Embedding)         (None, 200, 50)      15941200    item_desc[0][0]                  \n",
      "__________________________________________________________________________________________________\n",
      "embedding_1 (Embedding)         (None, 50, 50)       15941200    name[0][0]                       \n",
      "__________________________________________________________________________________________________\n",
      "embedding_4 (Embedding)         (None, 1, 20)        6376480     category_name[0][0]              \n",
      "__________________________________________________________________________________________________\n",
      "flatten_1 (Flatten)             (None, 10)           0           embedding_3[0][0]                \n",
      "__________________________________________________________________________________________________\n",
      "flatten_2 (Flatten)             (None, 5)            0           embedding_6[0][0]                \n",
      "__________________________________________________________________________________________________\n",
      "flatten_3 (Flatten)             (None, 5)            0           embedding_5[0][0]                \n",
      "__________________________________________________________________________________________________\n",
      "lstm_1 (LSTM)                   (None, 32)           10624       embedding_2[0][0]                \n",
      "__________________________________________________________________________________________________\n",
      "lstm_2 (LSTM)                   (None, 16)           4288        embedding_1[0][0]                \n",
      "__________________________________________________________________________________________________\n",
      "lstm_3 (LSTM)                   (None, 8)            928         embedding_4[0][0]                \n",
      "__________________________________________________________________________________________________\n",
      "desc_len (InputLayer)           (None, 1)            0                                            \n",
      "__________________________________________________________________________________________________\n",
      "name_len (InputLayer)           (None, 1)            0                                            \n",
      "__________________________________________________________________________________________________\n",
      "concatenate_1 (Concatenate)     (None, 79)           0           flatten_1[0][0]                  \n",
      "                                                                 flatten_2[0][0]                  \n",
      "                                                                 flatten_3[0][0]                  \n",
      "                                                                 num_vars[0][0]                   \n",
      "                                                                 lstm_1[0][0]                     \n",
      "                                                                 lstm_2[0][0]                     \n",
      "                                                                 lstm_3[0][0]                     \n",
      "                                                                 desc_len[0][0]                   \n",
      "                                                                 name_len[0][0]                   \n",
      "__________________________________________________________________________________________________\n",
      "dense_1 (Dense)                 (None, 512)          40960       concatenate_1[0][0]              \n",
      "__________________________________________________________________________________________________\n",
      "dropout_1 (Dropout)             (None, 512)          0           dense_1[0][0]                    \n",
      "__________________________________________________________________________________________________\n",
      "dense_2 (Dense)                 (None, 256)          131328      dropout_1[0][0]                  \n",
      "__________________________________________________________________________________________________\n",
      "dropout_2 (Dropout)             (None, 256)          0           dense_2[0][0]                    \n",
      "__________________________________________________________________________________________________\n",
      "dense_3 (Dense)                 (None, 1)            257         dropout_2[0][0]                  \n",
      "==================================================================================================\n",
      "Total params: 38,495,215\n",
      "Trainable params: 38,495,215\n",
      "Non-trainable params: 0\n",
      "__________________________________________________________________________________________________\n"
     ]
    }
   ],
   "source": [
    "model = LSTM_model()\n",
    "model.summary()"
   ]
  },
  {
   "cell_type": "code",
   "execution_count": 23,
   "metadata": {
    "_uuid": "eca1f110e83c3dbd4962664d11c6cf1ebf6b1ed5"
   },
   "outputs": [
    {
     "name": "stdout",
     "output_type": "stream",
     "text": [
      "WARNING:tensorflow:From /home/chaitanyareddypatlolla/.local/lib/python3.5/site-packages/tensorflow/python/ops/math_ops.py:3066: to_int32 (from tensorflow.python.ops.math_ops) is deprecated and will be removed in a future version.\n",
      "Instructions for updating:\n",
      "Use tf.cast instead.\n",
      "Train on 1170366 samples, validate on 292592 samples\n",
      "Epoch 1/3\n",
      "1170366/1170366 [==============================] - 1200s 1ms/step - loss: 0.5084 - val_loss: 0.2247\n",
      "Epoch 2/3\n",
      "1170366/1170366 [==============================] - 1199s 1ms/step - loss: 0.2266 - val_loss: 0.2221\n",
      "Epoch 3/3\n",
      "1170366/1170366 [==============================] - 1202s 1ms/step - loss: 0.2051 - val_loss: 0.2122\n"
     ]
    }
   ],
   "source": [
    "BATCH_SIZE = 1000\n",
    "epochs = 3\n",
    "model_1 = model.fit(X_train, y_train,\n",
    "          epochs=epochs,\n",
    "          batch_size=BATCH_SIZE,\n",
    "          validation_data=(X_cv, y_cv),\n",
    "          verbose=1)"
   ]
  },
  {
   "cell_type": "code",
   "execution_count": 24,
   "metadata": {
    "_uuid": "b6d71911afcedd77bb1585a5084c4ea30678588a"
   },
   "outputs": [
    {
     "name": "stdout",
     "output_type": "stream",
     "text": [
      "RMSLE error: 0.46064911587612867\n"
     ]
    }
   ],
   "source": [
    "y_pred = model.predict(X_cv, batch_size=BATCH_SIZE)\n",
    "print(\"RMSLE error:\", rmsle(y_cv, y_pred))"
   ]
  },
  {
   "cell_type": "code",
   "execution_count": null,
   "metadata": {
    "_uuid": "5dd72996f001825dba95a7f843e6c6ef21b10e9c"
   },
   "outputs": [],
   "source": [
    "rnn_pred = model.predict(X_test, batch_size=BATCH_SIZE)\n",
    "rnn_pred = np.exp(rnn_pred)-1"
   ]
  },
  {
   "cell_type": "code",
   "execution_count": null,
   "metadata": {
    "_uuid": "2ac51de182f06b96c47d1ff4f1bbc59309633bd8"
   },
   "outputs": [],
   "source": [
    "submission = test[[\"test_id\"]]\n",
    "submission[\"price\"] = rnn_pred"
   ]
  },
  {
   "cell_type": "code",
   "execution_count": null,
   "metadata": {
    "_uuid": "3901b2f3a82da7c251556fb756058dbbe2c8b968"
   },
   "outputs": [],
   "source": [
    "#Storing the predictions in CSV file\n",
    "submission.to_csv(\"./rnnsubmission.csv\", index=False)"
   ]
  }
 ],
 "metadata": {
  "kernelspec": {
   "display_name": "Python 3",
   "language": "python",
   "name": "python3"
  },
  "language_info": {
   "codemirror_mode": {
    "name": "ipython",
    "version": 3
   },
   "file_extension": ".py",
   "mimetype": "text/x-python",
   "name": "python",
   "nbconvert_exporter": "python",
   "pygments_lexer": "ipython3",
   "version": "3.5.3"
  }
 },
 "nbformat": 4,
 "nbformat_minor": 1
}
